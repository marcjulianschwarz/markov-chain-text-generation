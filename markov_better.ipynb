{
 "cells": [
  {
   "cell_type": "code",
   "execution_count": 16,
   "metadata": {},
   "outputs": [],
   "source": [
    "import nltk \n",
    "from nltk import word_tokenize\n",
    "import numpy as np\n",
    "import random\n",
    "from typing import List, Dict, Tuple"
   ]
  },
  {
   "cell_type": "code",
   "execution_count": 17,
   "metadata": {},
   "outputs": [],
   "source": [
    "def get_tokens(file_name):\n",
    "    tokens = []\n",
    "    with open(file_name, \"r\") as f:  \n",
    "        return word_tokenize(f.read())"
   ]
  },
  {
   "cell_type": "code",
   "execution_count": 18,
   "metadata": {},
   "outputs": [],
   "source": [
    "tokens = get_tokens(\"test.txt\")"
   ]
  },
  {
   "cell_type": "code",
   "execution_count": 19,
   "metadata": {},
   "outputs": [],
   "source": [
    "def calculate_transition_matrix(tokens: List[str]) -> np.ndarray:\n",
    "    \n",
    "    unique_tokens = list(set(tokens))\n",
    "    unique_word_combination_counts = {}\n",
    "    total_froms = {}\n",
    "\n",
    "    transition_matrix = np.zeros((len(unique_tokens), len(unique_tokens)))\n",
    "\n",
    "    for i, token in enumerate(tokens):\n",
    "        if i < len(tokens) - 1:\n",
    "            from_to = (token, tokens[i + 1])\n",
    "            unique_word_combination_counts[from_to] = unique_word_combination_counts.get(from_to, 0) + 1\n",
    "            total_froms[token] = total_froms.get(token, 0) + 1\n",
    "\n",
    "    for key, value in unique_word_combination_counts.items():\n",
    "        _from, _to = key \n",
    "        transition_matrix[unique_tokens.index(_from), unique_tokens.index(_to)] = value / total_froms[_from]\n",
    "\n",
    "    return transition_matrix"
   ]
  },
  {
   "cell_type": "code",
   "execution_count": 20,
   "metadata": {},
   "outputs": [],
   "source": [
    "P = calculate_transition_matrix(tokens)"
   ]
  },
  {
   "cell_type": "code",
   "execution_count": 21,
   "metadata": {},
   "outputs": [],
   "source": [
    "def generate_text(tokens: List[str], length: int, P_matrix: np.ndarray, P_init: np.ndarray=None) -> str:\n",
    "    text = []\n",
    "    if P_init is not None:\n",
    "      current_token = np.random.choice(tokens, p=P_init)  \n",
    "    else:\n",
    "        current_token = np.random.choice(tokens)\n",
    "    \n",
    "    text.append(current_token)\n",
    "    for i in range(length):\n",
    "        current_token = np.random.choice(tokens, p=P_matrix[tokens.index(current_token)])\n",
    "        text.append(current_token)\n",
    "    return \" \".join(text)\n"
   ]
  },
  {
   "cell_type": "code",
   "execution_count": 22,
   "metadata": {},
   "outputs": [
    {
     "data": {
      "text/plain": [
       "'Tageszeitungen ( 1806–1871 ) gegenüberstellte . Bipolare Außenpolitik mit Reichsitalien . In den Krieg verschärften . Nach kurzem Wiedervereinigungboom waren 50,7 Prozent der registrierten Zu- und der Gleichschaltung der Germanen : Entwicklungsprogramm der Südhälfte Deutschlands in den Ländern , begann sich , BBC im Jahr 2020 . In der Qualität zeige . [ 124 ] auf die Geschichte ( PDF ) und Havel . Nach dem Gemeinen Delfin auch von 0,78 deutlich stärker wurden ( 1200–1000 v . Die von Schill in der Landfläche sind die römisch-deutsche Reich durch die Macht , S. 248 . Human Development Programme , 2020 ('"
      ]
     },
     "execution_count": 22,
     "metadata": {},
     "output_type": "execute_result"
    }
   ],
   "source": [
    "generate_text(list(set(tokens)), 100, P)"
   ]
  },
  {
   "cell_type": "code",
   "execution_count": null,
   "metadata": {},
   "outputs": [],
   "source": []
  }
 ],
 "metadata": {
  "kernelspec": {
   "display_name": "experimental",
   "language": "python",
   "name": "python3"
  },
  "language_info": {
   "codemirror_mode": {
    "name": "ipython",
    "version": 3
   },
   "file_extension": ".py",
   "mimetype": "text/x-python",
   "name": "python",
   "nbconvert_exporter": "python",
   "pygments_lexer": "ipython3",
   "version": "3.10.4"
  },
  "orig_nbformat": 4
 },
 "nbformat": 4,
 "nbformat_minor": 2
}
